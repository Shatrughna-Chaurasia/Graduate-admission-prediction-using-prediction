{
 "cells": [
  {
   "cell_type": "code",
   "execution_count": 1,
   "id": "9405e110",
   "metadata": {
    "_cell_guid": "b1076dfc-b9ad-4769-8c92-a6c4dae69d19",
    "_uuid": "8f2839f25d086af736a60e9eeb907d3b93b6e0e5",
    "execution": {
     "iopub.execute_input": "2023-12-23T07:27:41.453898Z",
     "iopub.status.busy": "2023-12-23T07:27:41.453503Z",
     "iopub.status.idle": "2023-12-23T07:27:41.772619Z",
     "shell.execute_reply": "2023-12-23T07:27:41.771893Z"
    },
    "papermill": {
     "duration": 0.329806,
     "end_time": "2023-12-23T07:27:41.774534",
     "exception": false,
     "start_time": "2023-12-23T07:27:41.444728",
     "status": "completed"
    },
    "tags": []
   },
   "outputs": [
    {
     "name": "stdout",
     "output_type": "stream",
     "text": [
      "/kaggle/input/graduate-admissions/Admission_Predict.csv\n",
      "/kaggle/input/graduate-admissions/Admission_Predict_Ver1.1.csv\n"
     ]
    }
   ],
   "source": [
    "# This Python 3 environment comes with many helpful analytics libraries installed\n",
    "# It is defined by the kaggle/python Docker image: https://github.com/kaggle/docker-python\n",
    "# For example, here's several helpful packages to load\n",
    "\n",
    "import numpy as np # linear algebra\n",
    "import pandas as pd # data processing, CSV file I/O (e.g. pd.read_csv)\n",
    "\n",
    "# Input data files are available in the read-only \"../input/\" directory\n",
    "# For example, running this (by clicking run or pressing Shift+Enter) will list all files under the input directory\n",
    "\n",
    "import os\n",
    "for dirname, _, filenames in os.walk('/kaggle/input'):\n",
    "    for filename in filenames:\n",
    "        print(os.path.join(dirname, filename))\n",
    "\n",
    "# You can write up to 20GB to the current directory (/kaggle/working/) that gets preserved as output when you create a version using \"Save & Run All\" \n",
    "# You can also write temporary files to /kaggle/temp/, but they won't be saved outside of the current session"
   ]
  },
  {
   "cell_type": "code",
   "execution_count": 2,
   "id": "86830b1b",
   "metadata": {
    "execution": {
     "iopub.execute_input": "2023-12-23T07:27:41.790757Z",
     "iopub.status.busy": "2023-12-23T07:27:41.789306Z",
     "iopub.status.idle": "2023-12-23T07:27:41.794078Z",
     "shell.execute_reply": "2023-12-23T07:27:41.793408Z"
    },
    "papermill": {
     "duration": 0.014643,
     "end_time": "2023-12-23T07:27:41.796279",
     "exception": false,
     "start_time": "2023-12-23T07:27:41.781636",
     "status": "completed"
    },
    "tags": []
   },
   "outputs": [],
   "source": [
    "## second one is updated so we will use it."
   ]
  },
  {
   "cell_type": "code",
   "execution_count": 3,
   "id": "e382b963",
   "metadata": {
    "execution": {
     "iopub.execute_input": "2023-12-23T07:27:41.812853Z",
     "iopub.status.busy": "2023-12-23T07:27:41.811756Z",
     "iopub.status.idle": "2023-12-23T07:27:41.832877Z",
     "shell.execute_reply": "2023-12-23T07:27:41.832173Z"
    },
    "papermill": {
     "duration": 0.031501,
     "end_time": "2023-12-23T07:27:41.835048",
     "exception": false,
     "start_time": "2023-12-23T07:27:41.803547",
     "status": "completed"
    },
    "tags": []
   },
   "outputs": [],
   "source": [
    "df = pd.read_csv(\"/kaggle/input/graduate-admissions/Admission_Predict_Ver1.1.csv\")"
   ]
  },
  {
   "cell_type": "code",
   "execution_count": 4,
   "id": "2088b46b",
   "metadata": {
    "execution": {
     "iopub.execute_input": "2023-12-23T07:27:41.850106Z",
     "iopub.status.busy": "2023-12-23T07:27:41.849738Z",
     "iopub.status.idle": "2023-12-23T07:27:41.876455Z",
     "shell.execute_reply": "2023-12-23T07:27:41.875594Z"
    },
    "papermill": {
     "duration": 0.036311,
     "end_time": "2023-12-23T07:27:41.878284",
     "exception": false,
     "start_time": "2023-12-23T07:27:41.841973",
     "status": "completed"
    },
    "tags": []
   },
   "outputs": [
    {
     "data": {
      "text/html": [
       "<div>\n",
       "<style scoped>\n",
       "    .dataframe tbody tr th:only-of-type {\n",
       "        vertical-align: middle;\n",
       "    }\n",
       "\n",
       "    .dataframe tbody tr th {\n",
       "        vertical-align: top;\n",
       "    }\n",
       "\n",
       "    .dataframe thead th {\n",
       "        text-align: right;\n",
       "    }\n",
       "</style>\n",
       "<table border=\"1\" class=\"dataframe\">\n",
       "  <thead>\n",
       "    <tr style=\"text-align: right;\">\n",
       "      <th></th>\n",
       "      <th>Serial No.</th>\n",
       "      <th>GRE Score</th>\n",
       "      <th>TOEFL Score</th>\n",
       "      <th>University Rating</th>\n",
       "      <th>SOP</th>\n",
       "      <th>LOR</th>\n",
       "      <th>CGPA</th>\n",
       "      <th>Research</th>\n",
       "      <th>Chance of Admit</th>\n",
       "    </tr>\n",
       "  </thead>\n",
       "  <tbody>\n",
       "    <tr>\n",
       "      <th>0</th>\n",
       "      <td>1</td>\n",
       "      <td>337</td>\n",
       "      <td>118</td>\n",
       "      <td>4</td>\n",
       "      <td>4.5</td>\n",
       "      <td>4.5</td>\n",
       "      <td>9.65</td>\n",
       "      <td>1</td>\n",
       "      <td>0.92</td>\n",
       "    </tr>\n",
       "    <tr>\n",
       "      <th>1</th>\n",
       "      <td>2</td>\n",
       "      <td>324</td>\n",
       "      <td>107</td>\n",
       "      <td>4</td>\n",
       "      <td>4.0</td>\n",
       "      <td>4.5</td>\n",
       "      <td>8.87</td>\n",
       "      <td>1</td>\n",
       "      <td>0.76</td>\n",
       "    </tr>\n",
       "    <tr>\n",
       "      <th>2</th>\n",
       "      <td>3</td>\n",
       "      <td>316</td>\n",
       "      <td>104</td>\n",
       "      <td>3</td>\n",
       "      <td>3.0</td>\n",
       "      <td>3.5</td>\n",
       "      <td>8.00</td>\n",
       "      <td>1</td>\n",
       "      <td>0.72</td>\n",
       "    </tr>\n",
       "    <tr>\n",
       "      <th>3</th>\n",
       "      <td>4</td>\n",
       "      <td>322</td>\n",
       "      <td>110</td>\n",
       "      <td>3</td>\n",
       "      <td>3.5</td>\n",
       "      <td>2.5</td>\n",
       "      <td>8.67</td>\n",
       "      <td>1</td>\n",
       "      <td>0.80</td>\n",
       "    </tr>\n",
       "    <tr>\n",
       "      <th>4</th>\n",
       "      <td>5</td>\n",
       "      <td>314</td>\n",
       "      <td>103</td>\n",
       "      <td>2</td>\n",
       "      <td>2.0</td>\n",
       "      <td>3.0</td>\n",
       "      <td>8.21</td>\n",
       "      <td>0</td>\n",
       "      <td>0.65</td>\n",
       "    </tr>\n",
       "  </tbody>\n",
       "</table>\n",
       "</div>"
      ],
      "text/plain": [
       "   Serial No.  GRE Score  TOEFL Score  University Rating  SOP  LOR   CGPA  \\\n",
       "0           1        337          118                  4  4.5   4.5  9.65   \n",
       "1           2        324          107                  4  4.0   4.5  8.87   \n",
       "2           3        316          104                  3  3.0   3.5  8.00   \n",
       "3           4        322          110                  3  3.5   2.5  8.67   \n",
       "4           5        314          103                  2  2.0   3.0  8.21   \n",
       "\n",
       "   Research  Chance of Admit   \n",
       "0         1              0.92  \n",
       "1         1              0.76  \n",
       "2         1              0.72  \n",
       "3         1              0.80  \n",
       "4         0              0.65  "
      ]
     },
     "execution_count": 4,
     "metadata": {},
     "output_type": "execute_result"
    }
   ],
   "source": [
    "df.head()"
   ]
  },
  {
   "cell_type": "code",
   "execution_count": 5,
   "id": "beeeb64e",
   "metadata": {
    "execution": {
     "iopub.execute_input": "2023-12-23T07:27:41.894104Z",
     "iopub.status.busy": "2023-12-23T07:27:41.893265Z",
     "iopub.status.idle": "2023-12-23T07:27:41.898844Z",
     "shell.execute_reply": "2023-12-23T07:27:41.897963Z"
    },
    "papermill": {
     "duration": 0.015901,
     "end_time": "2023-12-23T07:27:41.901310",
     "exception": false,
     "start_time": "2023-12-23T07:27:41.885409",
     "status": "completed"
    },
    "tags": []
   },
   "outputs": [
    {
     "data": {
      "text/plain": [
       "(500, 9)"
      ]
     },
     "execution_count": 5,
     "metadata": {},
     "output_type": "execute_result"
    }
   ],
   "source": [
    "df.shape"
   ]
  },
  {
   "cell_type": "code",
   "execution_count": 6,
   "id": "d2fef9d1",
   "metadata": {
    "execution": {
     "iopub.execute_input": "2023-12-23T07:27:41.917206Z",
     "iopub.status.busy": "2023-12-23T07:27:41.916822Z",
     "iopub.status.idle": "2023-12-23T07:27:41.939090Z",
     "shell.execute_reply": "2023-12-23T07:27:41.938455Z"
    },
    "papermill": {
     "duration": 0.032141,
     "end_time": "2023-12-23T07:27:41.940817",
     "exception": false,
     "start_time": "2023-12-23T07:27:41.908676",
     "status": "completed"
    },
    "tags": []
   },
   "outputs": [
    {
     "name": "stdout",
     "output_type": "stream",
     "text": [
      "<class 'pandas.core.frame.DataFrame'>\n",
      "RangeIndex: 500 entries, 0 to 499\n",
      "Data columns (total 9 columns):\n",
      " #   Column             Non-Null Count  Dtype  \n",
      "---  ------             --------------  -----  \n",
      " 0   Serial No.         500 non-null    int64  \n",
      " 1   GRE Score          500 non-null    int64  \n",
      " 2   TOEFL Score        500 non-null    int64  \n",
      " 3   University Rating  500 non-null    int64  \n",
      " 4   SOP                500 non-null    float64\n",
      " 5   LOR                500 non-null    float64\n",
      " 6   CGPA               500 non-null    float64\n",
      " 7   Research           500 non-null    int64  \n",
      " 8   Chance of Admit    500 non-null    float64\n",
      "dtypes: float64(4), int64(5)\n",
      "memory usage: 35.3 KB\n"
     ]
    }
   ],
   "source": [
    "df.info()"
   ]
  },
  {
   "cell_type": "code",
   "execution_count": 7,
   "id": "2dff0383",
   "metadata": {
    "execution": {
     "iopub.execute_input": "2023-12-23T07:27:41.957489Z",
     "iopub.status.busy": "2023-12-23T07:27:41.957049Z",
     "iopub.status.idle": "2023-12-23T07:27:41.968948Z",
     "shell.execute_reply": "2023-12-23T07:27:41.968018Z"
    },
    "papermill": {
     "duration": 0.023223,
     "end_time": "2023-12-23T07:27:41.971517",
     "exception": false,
     "start_time": "2023-12-23T07:27:41.948294",
     "status": "completed"
    },
    "tags": []
   },
   "outputs": [
    {
     "data": {
      "text/plain": [
       "0"
      ]
     },
     "execution_count": 7,
     "metadata": {},
     "output_type": "execute_result"
    }
   ],
   "source": [
    "df.duplicated().sum()"
   ]
  },
  {
   "cell_type": "code",
   "execution_count": 8,
   "id": "e5795ee2",
   "metadata": {
    "execution": {
     "iopub.execute_input": "2023-12-23T07:27:41.988097Z",
     "iopub.status.busy": "2023-12-23T07:27:41.987753Z",
     "iopub.status.idle": "2023-12-23T07:27:41.995829Z",
     "shell.execute_reply": "2023-12-23T07:27:41.995168Z"
    },
    "papermill": {
     "duration": 0.018752,
     "end_time": "2023-12-23T07:27:41.997870",
     "exception": false,
     "start_time": "2023-12-23T07:27:41.979118",
     "status": "completed"
    },
    "tags": []
   },
   "outputs": [],
   "source": [
    "df.drop(columns = ['Serial No.'], inplace = True)"
   ]
  },
  {
   "cell_type": "code",
   "execution_count": 9,
   "id": "cf7ac02a",
   "metadata": {
    "execution": {
     "iopub.execute_input": "2023-12-23T07:27:42.014773Z",
     "iopub.status.busy": "2023-12-23T07:27:42.014232Z",
     "iopub.status.idle": "2023-12-23T07:27:42.028454Z",
     "shell.execute_reply": "2023-12-23T07:27:42.027289Z"
    },
    "papermill": {
     "duration": 0.025367,
     "end_time": "2023-12-23T07:27:42.030757",
     "exception": false,
     "start_time": "2023-12-23T07:27:42.005390",
     "status": "completed"
    },
    "tags": []
   },
   "outputs": [
    {
     "data": {
      "text/html": [
       "<div>\n",
       "<style scoped>\n",
       "    .dataframe tbody tr th:only-of-type {\n",
       "        vertical-align: middle;\n",
       "    }\n",
       "\n",
       "    .dataframe tbody tr th {\n",
       "        vertical-align: top;\n",
       "    }\n",
       "\n",
       "    .dataframe thead th {\n",
       "        text-align: right;\n",
       "    }\n",
       "</style>\n",
       "<table border=\"1\" class=\"dataframe\">\n",
       "  <thead>\n",
       "    <tr style=\"text-align: right;\">\n",
       "      <th></th>\n",
       "      <th>GRE Score</th>\n",
       "      <th>TOEFL Score</th>\n",
       "      <th>University Rating</th>\n",
       "      <th>SOP</th>\n",
       "      <th>LOR</th>\n",
       "      <th>CGPA</th>\n",
       "      <th>Research</th>\n",
       "      <th>Chance of Admit</th>\n",
       "    </tr>\n",
       "  </thead>\n",
       "  <tbody>\n",
       "    <tr>\n",
       "      <th>0</th>\n",
       "      <td>337</td>\n",
       "      <td>118</td>\n",
       "      <td>4</td>\n",
       "      <td>4.5</td>\n",
       "      <td>4.5</td>\n",
       "      <td>9.65</td>\n",
       "      <td>1</td>\n",
       "      <td>0.92</td>\n",
       "    </tr>\n",
       "    <tr>\n",
       "      <th>1</th>\n",
       "      <td>324</td>\n",
       "      <td>107</td>\n",
       "      <td>4</td>\n",
       "      <td>4.0</td>\n",
       "      <td>4.5</td>\n",
       "      <td>8.87</td>\n",
       "      <td>1</td>\n",
       "      <td>0.76</td>\n",
       "    </tr>\n",
       "    <tr>\n",
       "      <th>2</th>\n",
       "      <td>316</td>\n",
       "      <td>104</td>\n",
       "      <td>3</td>\n",
       "      <td>3.0</td>\n",
       "      <td>3.5</td>\n",
       "      <td>8.00</td>\n",
       "      <td>1</td>\n",
       "      <td>0.72</td>\n",
       "    </tr>\n",
       "    <tr>\n",
       "      <th>3</th>\n",
       "      <td>322</td>\n",
       "      <td>110</td>\n",
       "      <td>3</td>\n",
       "      <td>3.5</td>\n",
       "      <td>2.5</td>\n",
       "      <td>8.67</td>\n",
       "      <td>1</td>\n",
       "      <td>0.80</td>\n",
       "    </tr>\n",
       "    <tr>\n",
       "      <th>4</th>\n",
       "      <td>314</td>\n",
       "      <td>103</td>\n",
       "      <td>2</td>\n",
       "      <td>2.0</td>\n",
       "      <td>3.0</td>\n",
       "      <td>8.21</td>\n",
       "      <td>0</td>\n",
       "      <td>0.65</td>\n",
       "    </tr>\n",
       "  </tbody>\n",
       "</table>\n",
       "</div>"
      ],
      "text/plain": [
       "   GRE Score  TOEFL Score  University Rating  SOP  LOR   CGPA  Research  \\\n",
       "0        337          118                  4  4.5   4.5  9.65         1   \n",
       "1        324          107                  4  4.0   4.5  8.87         1   \n",
       "2        316          104                  3  3.0   3.5  8.00         1   \n",
       "3        322          110                  3  3.5   2.5  8.67         1   \n",
       "4        314          103                  2  2.0   3.0  8.21         0   \n",
       "\n",
       "   Chance of Admit   \n",
       "0              0.92  \n",
       "1              0.76  \n",
       "2              0.72  \n",
       "3              0.80  \n",
       "4              0.65  "
      ]
     },
     "execution_count": 9,
     "metadata": {},
     "output_type": "execute_result"
    }
   ],
   "source": [
    "df.head()"
   ]
  },
  {
   "cell_type": "code",
   "execution_count": 10,
   "id": "462812f9",
   "metadata": {
    "execution": {
     "iopub.execute_input": "2023-12-23T07:27:42.048955Z",
     "iopub.status.busy": "2023-12-23T07:27:42.048374Z",
     "iopub.status.idle": "2023-12-23T07:27:42.053742Z",
     "shell.execute_reply": "2023-12-23T07:27:42.052505Z"
    },
    "papermill": {
     "duration": 0.017422,
     "end_time": "2023-12-23T07:27:42.056169",
     "exception": false,
     "start_time": "2023-12-23T07:27:42.038747",
     "status": "completed"
    },
    "tags": []
   },
   "outputs": [],
   "source": [
    "X = df.iloc[ : , 0:-1]\n",
    "y = df.iloc[ : , -1]"
   ]
  },
  {
   "cell_type": "code",
   "execution_count": 11,
   "id": "2c576a0f",
   "metadata": {
    "execution": {
     "iopub.execute_input": "2023-12-23T07:27:42.072991Z",
     "iopub.status.busy": "2023-12-23T07:27:42.072038Z",
     "iopub.status.idle": "2023-12-23T07:27:42.082631Z",
     "shell.execute_reply": "2023-12-23T07:27:42.081545Z"
    },
    "papermill": {
     "duration": 0.020492,
     "end_time": "2023-12-23T07:27:42.084281",
     "exception": false,
     "start_time": "2023-12-23T07:27:42.063789",
     "status": "completed"
    },
    "tags": []
   },
   "outputs": [
    {
     "name": "stdout",
     "output_type": "stream",
     "text": [
      "     GRE Score  TOEFL Score  University Rating  SOP  LOR   CGPA  Research\n",
      "0          337          118                  4  4.5   4.5  9.65         1\n",
      "1          324          107                  4  4.0   4.5  8.87         1\n",
      "2          316          104                  3  3.0   3.5  8.00         1\n",
      "3          322          110                  3  3.5   2.5  8.67         1\n",
      "4          314          103                  2  2.0   3.0  8.21         0\n",
      "..         ...          ...                ...  ...   ...   ...       ...\n",
      "495        332          108                  5  4.5   4.0  9.02         1\n",
      "496        337          117                  5  5.0   5.0  9.87         1\n",
      "497        330          120                  5  4.5   5.0  9.56         1\n",
      "498        312          103                  4  4.0   5.0  8.43         0\n",
      "499        327          113                  4  4.5   4.5  9.04         0\n",
      "\n",
      "[500 rows x 7 columns]\n",
      "0      0.92\n",
      "1      0.76\n",
      "2      0.72\n",
      "3      0.80\n",
      "4      0.65\n",
      "       ... \n",
      "495    0.87\n",
      "496    0.96\n",
      "497    0.93\n",
      "498    0.73\n",
      "499    0.84\n",
      "Name: Chance of Admit , Length: 500, dtype: float64\n"
     ]
    }
   ],
   "source": [
    "print(X)\n",
    "print(y)"
   ]
  },
  {
   "cell_type": "code",
   "execution_count": 12,
   "id": "b142a27e",
   "metadata": {
    "execution": {
     "iopub.execute_input": "2023-12-23T07:27:42.101842Z",
     "iopub.status.busy": "2023-12-23T07:27:42.100752Z",
     "iopub.status.idle": "2023-12-23T07:27:43.220680Z",
     "shell.execute_reply": "2023-12-23T07:27:43.219508Z"
    },
    "papermill": {
     "duration": 1.131318,
     "end_time": "2023-12-23T07:27:43.223015",
     "exception": false,
     "start_time": "2023-12-23T07:27:42.091697",
     "status": "completed"
    },
    "tags": []
   },
   "outputs": [],
   "source": [
    "from sklearn.model_selection import train_test_split\n",
    "X_train,X_test,y_train,y_test = train_test_split(X,y,test_size=0.2,random_state=1)"
   ]
  },
  {
   "cell_type": "code",
   "execution_count": 13,
   "id": "27c4f2b6",
   "metadata": {
    "execution": {
     "iopub.execute_input": "2023-12-23T07:27:43.240317Z",
     "iopub.status.busy": "2023-12-23T07:27:43.239953Z",
     "iopub.status.idle": "2023-12-23T07:27:43.245477Z",
     "shell.execute_reply": "2023-12-23T07:27:43.244003Z"
    },
    "papermill": {
     "duration": 0.016498,
     "end_time": "2023-12-23T07:27:43.247509",
     "exception": false,
     "start_time": "2023-12-23T07:27:43.231011",
     "status": "completed"
    },
    "tags": []
   },
   "outputs": [
    {
     "name": "stdout",
     "output_type": "stream",
     "text": [
      "(400, 7) (100, 7)\n"
     ]
    }
   ],
   "source": [
    "print(X_train.shape,X_test.shape)"
   ]
  },
  {
   "cell_type": "code",
   "execution_count": 14,
   "id": "e5a83fa0",
   "metadata": {
    "execution": {
     "iopub.execute_input": "2023-12-23T07:27:43.264753Z",
     "iopub.status.busy": "2023-12-23T07:27:43.264432Z",
     "iopub.status.idle": "2023-12-23T07:27:43.279413Z",
     "shell.execute_reply": "2023-12-23T07:27:43.278350Z"
    },
    "papermill": {
     "duration": 0.026133,
     "end_time": "2023-12-23T07:27:43.281389",
     "exception": false,
     "start_time": "2023-12-23T07:27:43.255256",
     "status": "completed"
    },
    "tags": []
   },
   "outputs": [
    {
     "data": {
      "text/html": [
       "<div>\n",
       "<style scoped>\n",
       "    .dataframe tbody tr th:only-of-type {\n",
       "        vertical-align: middle;\n",
       "    }\n",
       "\n",
       "    .dataframe tbody tr th {\n",
       "        vertical-align: top;\n",
       "    }\n",
       "\n",
       "    .dataframe thead th {\n",
       "        text-align: right;\n",
       "    }\n",
       "</style>\n",
       "<table border=\"1\" class=\"dataframe\">\n",
       "  <thead>\n",
       "    <tr style=\"text-align: right;\">\n",
       "      <th></th>\n",
       "      <th>GRE Score</th>\n",
       "      <th>TOEFL Score</th>\n",
       "      <th>University Rating</th>\n",
       "      <th>SOP</th>\n",
       "      <th>LOR</th>\n",
       "      <th>CGPA</th>\n",
       "      <th>Research</th>\n",
       "    </tr>\n",
       "  </thead>\n",
       "  <tbody>\n",
       "    <tr>\n",
       "      <th>238</th>\n",
       "      <td>310</td>\n",
       "      <td>104</td>\n",
       "      <td>3</td>\n",
       "      <td>2.0</td>\n",
       "      <td>3.5</td>\n",
       "      <td>8.37</td>\n",
       "      <td>0</td>\n",
       "    </tr>\n",
       "    <tr>\n",
       "      <th>438</th>\n",
       "      <td>318</td>\n",
       "      <td>110</td>\n",
       "      <td>1</td>\n",
       "      <td>2.5</td>\n",
       "      <td>3.5</td>\n",
       "      <td>8.54</td>\n",
       "      <td>1</td>\n",
       "    </tr>\n",
       "    <tr>\n",
       "      <th>475</th>\n",
       "      <td>300</td>\n",
       "      <td>101</td>\n",
       "      <td>3</td>\n",
       "      <td>3.5</td>\n",
       "      <td>2.5</td>\n",
       "      <td>7.88</td>\n",
       "      <td>0</td>\n",
       "    </tr>\n",
       "    <tr>\n",
       "      <th>58</th>\n",
       "      <td>300</td>\n",
       "      <td>99</td>\n",
       "      <td>1</td>\n",
       "      <td>3.0</td>\n",
       "      <td>2.0</td>\n",
       "      <td>6.80</td>\n",
       "      <td>1</td>\n",
       "    </tr>\n",
       "    <tr>\n",
       "      <th>380</th>\n",
       "      <td>322</td>\n",
       "      <td>104</td>\n",
       "      <td>3</td>\n",
       "      <td>3.5</td>\n",
       "      <td>4.0</td>\n",
       "      <td>8.84</td>\n",
       "      <td>1</td>\n",
       "    </tr>\n",
       "    <tr>\n",
       "      <th>...</th>\n",
       "      <td>...</td>\n",
       "      <td>...</td>\n",
       "      <td>...</td>\n",
       "      <td>...</td>\n",
       "      <td>...</td>\n",
       "      <td>...</td>\n",
       "      <td>...</td>\n",
       "    </tr>\n",
       "    <tr>\n",
       "      <th>255</th>\n",
       "      <td>307</td>\n",
       "      <td>110</td>\n",
       "      <td>4</td>\n",
       "      <td>4.0</td>\n",
       "      <td>4.5</td>\n",
       "      <td>8.37</td>\n",
       "      <td>0</td>\n",
       "    </tr>\n",
       "    <tr>\n",
       "      <th>72</th>\n",
       "      <td>321</td>\n",
       "      <td>111</td>\n",
       "      <td>5</td>\n",
       "      <td>5.0</td>\n",
       "      <td>5.0</td>\n",
       "      <td>9.45</td>\n",
       "      <td>1</td>\n",
       "    </tr>\n",
       "    <tr>\n",
       "      <th>396</th>\n",
       "      <td>325</td>\n",
       "      <td>107</td>\n",
       "      <td>3</td>\n",
       "      <td>3.0</td>\n",
       "      <td>3.5</td>\n",
       "      <td>9.11</td>\n",
       "      <td>1</td>\n",
       "    </tr>\n",
       "    <tr>\n",
       "      <th>235</th>\n",
       "      <td>326</td>\n",
       "      <td>111</td>\n",
       "      <td>5</td>\n",
       "      <td>4.5</td>\n",
       "      <td>4.0</td>\n",
       "      <td>9.23</td>\n",
       "      <td>1</td>\n",
       "    </tr>\n",
       "    <tr>\n",
       "      <th>37</th>\n",
       "      <td>300</td>\n",
       "      <td>105</td>\n",
       "      <td>1</td>\n",
       "      <td>1.0</td>\n",
       "      <td>2.0</td>\n",
       "      <td>7.80</td>\n",
       "      <td>0</td>\n",
       "    </tr>\n",
       "  </tbody>\n",
       "</table>\n",
       "<p>400 rows × 7 columns</p>\n",
       "</div>"
      ],
      "text/plain": [
       "     GRE Score  TOEFL Score  University Rating  SOP  LOR   CGPA  Research\n",
       "238        310          104                  3  2.0   3.5  8.37         0\n",
       "438        318          110                  1  2.5   3.5  8.54         1\n",
       "475        300          101                  3  3.5   2.5  7.88         0\n",
       "58         300           99                  1  3.0   2.0  6.80         1\n",
       "380        322          104                  3  3.5   4.0  8.84         1\n",
       "..         ...          ...                ...  ...   ...   ...       ...\n",
       "255        307          110                  4  4.0   4.5  8.37         0\n",
       "72         321          111                  5  5.0   5.0  9.45         1\n",
       "396        325          107                  3  3.0   3.5  9.11         1\n",
       "235        326          111                  5  4.5   4.0  9.23         1\n",
       "37         300          105                  1  1.0   2.0  7.80         0\n",
       "\n",
       "[400 rows x 7 columns]"
      ]
     },
     "execution_count": 14,
     "metadata": {},
     "output_type": "execute_result"
    }
   ],
   "source": [
    "X_train"
   ]
  },
  {
   "cell_type": "code",
   "execution_count": 15,
   "id": "da3bd5e3",
   "metadata": {
    "execution": {
     "iopub.execute_input": "2023-12-23T07:27:43.299980Z",
     "iopub.status.busy": "2023-12-23T07:27:43.299592Z",
     "iopub.status.idle": "2023-12-23T07:27:43.310475Z",
     "shell.execute_reply": "2023-12-23T07:27:43.309701Z"
    },
    "papermill": {
     "duration": 0.023047,
     "end_time": "2023-12-23T07:27:43.312344",
     "exception": false,
     "start_time": "2023-12-23T07:27:43.289297",
     "status": "completed"
    },
    "tags": []
   },
   "outputs": [],
   "source": [
    "from sklearn.preprocessing import MinMaxScaler\n",
    "scaler = MinMaxScaler()\n",
    "\n",
    "\n",
    "X_train_scaled = scaler.fit_transform(X_train)\n",
    "X_test_scaled = scaler.transform(X_test)"
   ]
  },
  {
   "cell_type": "code",
   "execution_count": 16,
   "id": "5e8fbdf2",
   "metadata": {
    "execution": {
     "iopub.execute_input": "2023-12-23T07:27:43.330172Z",
     "iopub.status.busy": "2023-12-23T07:27:43.329646Z",
     "iopub.status.idle": "2023-12-23T07:27:43.336460Z",
     "shell.execute_reply": "2023-12-23T07:27:43.335308Z"
    },
    "papermill": {
     "duration": 0.01875,
     "end_time": "2023-12-23T07:27:43.339154",
     "exception": false,
     "start_time": "2023-12-23T07:27:43.320404",
     "status": "completed"
    },
    "tags": []
   },
   "outputs": [
    {
     "data": {
      "text/plain": [
       "array([[0.4       , 0.42857143, 0.5       , ..., 0.57142857, 0.50320513,\n",
       "        0.        ],\n",
       "       [0.56      , 0.64285714, 0.        , ..., 0.57142857, 0.55769231,\n",
       "        1.        ],\n",
       "       [0.2       , 0.32142857, 0.5       , ..., 0.28571429, 0.34615385,\n",
       "        0.        ],\n",
       "       ...,\n",
       "       [0.7       , 0.53571429, 0.5       , ..., 0.57142857, 0.74038462,\n",
       "        1.        ],\n",
       "       [0.72      , 0.67857143, 1.        , ..., 0.71428571, 0.77884615,\n",
       "        1.        ],\n",
       "       [0.2       , 0.46428571, 0.        , ..., 0.14285714, 0.32051282,\n",
       "        0.        ]])"
      ]
     },
     "execution_count": 16,
     "metadata": {},
     "output_type": "execute_result"
    }
   ],
   "source": [
    "X_train_scaled"
   ]
  },
  {
   "cell_type": "code",
   "execution_count": 17,
   "id": "7a09766c",
   "metadata": {
    "execution": {
     "iopub.execute_input": "2023-12-23T07:27:43.356473Z",
     "iopub.status.busy": "2023-12-23T07:27:43.356156Z",
     "iopub.status.idle": "2023-12-23T07:27:55.177526Z",
     "shell.execute_reply": "2023-12-23T07:27:55.176495Z"
    },
    "papermill": {
     "duration": 11.832759,
     "end_time": "2023-12-23T07:27:55.180044",
     "exception": false,
     "start_time": "2023-12-23T07:27:43.347285",
     "status": "completed"
    },
    "tags": []
   },
   "outputs": [],
   "source": [
    "import tensorflow \n",
    "from tensorflow import keras\n",
    "from keras import Sequential\n",
    "from keras.layers import Dense"
   ]
  },
  {
   "cell_type": "code",
   "execution_count": 18,
   "id": "aca05771",
   "metadata": {
    "execution": {
     "iopub.execute_input": "2023-12-23T07:27:55.198501Z",
     "iopub.status.busy": "2023-12-23T07:27:55.197456Z",
     "iopub.status.idle": "2023-12-23T07:27:55.357733Z",
     "shell.execute_reply": "2023-12-23T07:27:55.356299Z"
    },
    "papermill": {
     "duration": 0.172155,
     "end_time": "2023-12-23T07:27:55.360381",
     "exception": false,
     "start_time": "2023-12-23T07:27:55.188226",
     "status": "completed"
    },
    "tags": []
   },
   "outputs": [],
   "source": [
    "model = Sequential()\n",
    "\n",
    "model.add(Dense(7, activation ='relu', input_dim = 7))\n",
    "model.add(Dense(1,activation = 'linear'))"
   ]
  },
  {
   "cell_type": "code",
   "execution_count": 19,
   "id": "e0abfb58",
   "metadata": {
    "execution": {
     "iopub.execute_input": "2023-12-23T07:27:55.377810Z",
     "iopub.status.busy": "2023-12-23T07:27:55.377449Z",
     "iopub.status.idle": "2023-12-23T07:27:55.397340Z",
     "shell.execute_reply": "2023-12-23T07:27:55.396064Z"
    },
    "papermill": {
     "duration": 0.031383,
     "end_time": "2023-12-23T07:27:55.399636",
     "exception": false,
     "start_time": "2023-12-23T07:27:55.368253",
     "status": "completed"
    },
    "tags": []
   },
   "outputs": [
    {
     "name": "stdout",
     "output_type": "stream",
     "text": [
      "Model: \"sequential\"\n",
      "_________________________________________________________________\n",
      " Layer (type)                Output Shape              Param #   \n",
      "=================================================================\n",
      " dense (Dense)               (None, 7)                 56        \n",
      "                                                                 \n",
      " dense_1 (Dense)             (None, 1)                 8         \n",
      "                                                                 \n",
      "=================================================================\n",
      "Total params: 64 (256.00 Byte)\n",
      "Trainable params: 64 (256.00 Byte)\n",
      "Non-trainable params: 0 (0.00 Byte)\n",
      "_________________________________________________________________\n"
     ]
    }
   ],
   "source": [
    "model.summary()"
   ]
  },
  {
   "cell_type": "code",
   "execution_count": 20,
   "id": "7814528d",
   "metadata": {
    "execution": {
     "iopub.execute_input": "2023-12-23T07:27:55.420439Z",
     "iopub.status.busy": "2023-12-23T07:27:55.420104Z",
     "iopub.status.idle": "2023-12-23T07:27:55.436470Z",
     "shell.execute_reply": "2023-12-23T07:27:55.435187Z"
    },
    "papermill": {
     "duration": 0.0304,
     "end_time": "2023-12-23T07:27:55.439226",
     "exception": false,
     "start_time": "2023-12-23T07:27:55.408826",
     "status": "completed"
    },
    "tags": []
   },
   "outputs": [],
   "source": [
    "model.compile(loss ='mean_squared_error', optimizer='Adam')"
   ]
  },
  {
   "cell_type": "code",
   "execution_count": 21,
   "id": "359b71b2",
   "metadata": {
    "execution": {
     "iopub.execute_input": "2023-12-23T07:27:55.459073Z",
     "iopub.status.busy": "2023-12-23T07:27:55.458691Z",
     "iopub.status.idle": "2023-12-23T07:27:57.283701Z",
     "shell.execute_reply": "2023-12-23T07:27:57.282224Z"
    },
    "papermill": {
     "duration": 1.837834,
     "end_time": "2023-12-23T07:27:57.286249",
     "exception": false,
     "start_time": "2023-12-23T07:27:55.448415",
     "status": "completed"
    },
    "tags": []
   },
   "outputs": [
    {
     "name": "stdout",
     "output_type": "stream",
     "text": [
      "Epoch 1/10\n",
      "10/10 [==============================] - 1s 20ms/step - loss: 0.4784 - val_loss: 0.4144\n",
      "Epoch 2/10\n",
      "10/10 [==============================] - 0s 4ms/step - loss: 0.3387 - val_loss: 0.2827\n",
      "Epoch 3/10\n",
      "10/10 [==============================] - 0s 5ms/step - loss: 0.2281 - val_loss: 0.1815\n",
      "Epoch 4/10\n",
      "10/10 [==============================] - 0s 5ms/step - loss: 0.1436 - val_loss: 0.1119\n",
      "Epoch 5/10\n",
      "10/10 [==============================] - 0s 4ms/step - loss: 0.0878 - val_loss: 0.0664\n",
      "Epoch 6/10\n",
      "10/10 [==============================] - 0s 5ms/step - loss: 0.0521 - val_loss: 0.0409\n",
      "Epoch 7/10\n",
      "10/10 [==============================] - 0s 5ms/step - loss: 0.0328 - val_loss: 0.0295\n",
      "Epoch 8/10\n",
      "10/10 [==============================] - 0s 5ms/step - loss: 0.0247 - val_loss: 0.0257\n",
      "Epoch 9/10\n",
      "10/10 [==============================] - 0s 4ms/step - loss: 0.0223 - val_loss: 0.0250\n",
      "Epoch 10/10\n",
      "10/10 [==============================] - 0s 4ms/step - loss: 0.0216 - val_loss: 0.0248\n"
     ]
    }
   ],
   "source": [
    "history = model.fit(X_train_scaled, y_train, epochs = 10, validation_split = 0.2)"
   ]
  },
  {
   "cell_type": "code",
   "execution_count": 22,
   "id": "cfbf3c4a",
   "metadata": {
    "execution": {
     "iopub.execute_input": "2023-12-23T07:27:57.308968Z",
     "iopub.status.busy": "2023-12-23T07:27:57.308618Z",
     "iopub.status.idle": "2023-12-23T07:27:57.485536Z",
     "shell.execute_reply": "2023-12-23T07:27:57.483977Z"
    },
    "papermill": {
     "duration": 0.192268,
     "end_time": "2023-12-23T07:27:57.489113",
     "exception": false,
     "start_time": "2023-12-23T07:27:57.296845",
     "status": "completed"
    },
    "tags": []
   },
   "outputs": [
    {
     "name": "stdout",
     "output_type": "stream",
     "text": [
      "4/4 [==============================] - 0s 2ms/step\n"
     ]
    }
   ],
   "source": [
    "y_pred = model.predict(X_test_scaled)"
   ]
  },
  {
   "cell_type": "code",
   "execution_count": 23,
   "id": "d0ec4aae",
   "metadata": {
    "execution": {
     "iopub.execute_input": "2023-12-23T07:27:57.511971Z",
     "iopub.status.busy": "2023-12-23T07:27:57.511613Z",
     "iopub.status.idle": "2023-12-23T07:27:57.519389Z",
     "shell.execute_reply": "2023-12-23T07:27:57.518266Z"
    },
    "papermill": {
     "duration": 0.021221,
     "end_time": "2023-12-23T07:27:57.521290",
     "exception": false,
     "start_time": "2023-12-23T07:27:57.500069",
     "status": "completed"
    },
    "tags": []
   },
   "outputs": [
    {
     "data": {
      "text/plain": [
       "0.05825070340955296"
      ]
     },
     "execution_count": 23,
     "metadata": {},
     "output_type": "execute_result"
    }
   ],
   "source": [
    "from sklearn.metrics import r2_score\n",
    "r2_score(y_test, y_pred)"
   ]
  },
  {
   "cell_type": "code",
   "execution_count": 24,
   "id": "aea5000b",
   "metadata": {
    "execution": {
     "iopub.execute_input": "2023-12-23T07:27:57.544247Z",
     "iopub.status.busy": "2023-12-23T07:27:57.543877Z",
     "iopub.status.idle": "2023-12-23T07:27:57.548599Z",
     "shell.execute_reply": "2023-12-23T07:27:57.547276Z"
    },
    "papermill": {
     "duration": 0.019293,
     "end_time": "2023-12-23T07:27:57.551323",
     "exception": false,
     "start_time": "2023-12-23T07:27:57.532030",
     "status": "completed"
    },
    "tags": []
   },
   "outputs": [],
   "source": [
    "## Since R2 is quite less\n",
    "## Let's improve it"
   ]
  },
  {
   "cell_type": "code",
   "execution_count": 25,
   "id": "534d8fcc",
   "metadata": {
    "execution": {
     "iopub.execute_input": "2023-12-23T07:27:57.574834Z",
     "iopub.status.busy": "2023-12-23T07:27:57.574532Z",
     "iopub.status.idle": "2023-12-23T07:27:57.611848Z",
     "shell.execute_reply": "2023-12-23T07:27:57.610968Z"
    },
    "papermill": {
     "duration": 0.051572,
     "end_time": "2023-12-23T07:27:57.614122",
     "exception": false,
     "start_time": "2023-12-23T07:27:57.562550",
     "status": "completed"
    },
    "tags": []
   },
   "outputs": [],
   "source": [
    "model_1 = Sequential()\n",
    "\n",
    "model_1.add(Dense(7, activation ='relu', input_dim = 7))\n",
    "model_1.add(Dense(7, activation ='relu'))\n",
    "model_1.add(Dense(1,activation = 'linear'))"
   ]
  },
  {
   "cell_type": "code",
   "execution_count": 26,
   "id": "d27fa517",
   "metadata": {
    "execution": {
     "iopub.execute_input": "2023-12-23T07:27:57.636994Z",
     "iopub.status.busy": "2023-12-23T07:27:57.636615Z",
     "iopub.status.idle": "2023-12-23T07:27:57.655742Z",
     "shell.execute_reply": "2023-12-23T07:27:57.654699Z"
    },
    "papermill": {
     "duration": 0.032735,
     "end_time": "2023-12-23T07:27:57.657773",
     "exception": false,
     "start_time": "2023-12-23T07:27:57.625038",
     "status": "completed"
    },
    "tags": []
   },
   "outputs": [
    {
     "name": "stdout",
     "output_type": "stream",
     "text": [
      "Model: \"sequential_1\"\n",
      "_________________________________________________________________\n",
      " Layer (type)                Output Shape              Param #   \n",
      "=================================================================\n",
      " dense_2 (Dense)             (None, 7)                 56        \n",
      "                                                                 \n",
      " dense_3 (Dense)             (None, 7)                 56        \n",
      "                                                                 \n",
      " dense_4 (Dense)             (None, 1)                 8         \n",
      "                                                                 \n",
      "=================================================================\n",
      "Total params: 120 (480.00 Byte)\n",
      "Trainable params: 120 (480.00 Byte)\n",
      "Non-trainable params: 0 (0.00 Byte)\n",
      "_________________________________________________________________\n"
     ]
    }
   ],
   "source": [
    "model_1.summary()"
   ]
  },
  {
   "cell_type": "code",
   "execution_count": 27,
   "id": "107af3b4",
   "metadata": {
    "execution": {
     "iopub.execute_input": "2023-12-23T07:27:57.739061Z",
     "iopub.status.busy": "2023-12-23T07:27:57.738680Z",
     "iopub.status.idle": "2023-12-23T07:27:57.752406Z",
     "shell.execute_reply": "2023-12-23T07:27:57.751415Z"
    },
    "papermill": {
     "duration": 0.029014,
     "end_time": "2023-12-23T07:27:57.754803",
     "exception": false,
     "start_time": "2023-12-23T07:27:57.725789",
     "status": "completed"
    },
    "tags": []
   },
   "outputs": [],
   "source": [
    "model_1.compile(loss ='mean_squared_error', optimizer='Adam')"
   ]
  },
  {
   "cell_type": "code",
   "execution_count": 28,
   "id": "322b3066",
   "metadata": {
    "execution": {
     "iopub.execute_input": "2023-12-23T07:27:57.779375Z",
     "iopub.status.busy": "2023-12-23T07:27:57.779023Z",
     "iopub.status.idle": "2023-12-23T07:28:03.428332Z",
     "shell.execute_reply": "2023-12-23T07:28:03.427092Z"
    },
    "papermill": {
     "duration": 5.664055,
     "end_time": "2023-12-23T07:28:03.430513",
     "exception": false,
     "start_time": "2023-12-23T07:27:57.766458",
     "status": "completed"
    },
    "tags": []
   },
   "outputs": [
    {
     "name": "stdout",
     "output_type": "stream",
     "text": [
      "Epoch 1/100\n",
      "10/10 [==============================] - 1s 15ms/step - loss: 0.9539 - val_loss: 0.9496\n",
      "Epoch 2/100\n",
      "10/10 [==============================] - 0s 4ms/step - loss: 0.8079 - val_loss: 0.7775\n",
      "Epoch 3/100\n",
      "10/10 [==============================] - 0s 5ms/step - loss: 0.6454 - val_loss: 0.5828\n",
      "Epoch 4/100\n",
      "10/10 [==============================] - 0s 5ms/step - loss: 0.4685 - val_loss: 0.4031\n",
      "Epoch 5/100\n",
      "10/10 [==============================] - 0s 5ms/step - loss: 0.3135 - val_loss: 0.2569\n",
      "Epoch 6/100\n",
      "10/10 [==============================] - 0s 4ms/step - loss: 0.1911 - val_loss: 0.1458\n",
      "Epoch 7/100\n",
      "10/10 [==============================] - 0s 6ms/step - loss: 0.1026 - val_loss: 0.0705\n",
      "Epoch 8/100\n",
      "10/10 [==============================] - 0s 6ms/step - loss: 0.0477 - val_loss: 0.0288\n",
      "Epoch 9/100\n",
      "10/10 [==============================] - 0s 4ms/step - loss: 0.0198 - val_loss: 0.0134\n",
      "Epoch 10/100\n",
      "10/10 [==============================] - 0s 6ms/step - loss: 0.0126 - val_loss: 0.0112\n",
      "Epoch 11/100\n",
      "10/10 [==============================] - 0s 5ms/step - loss: 0.0116 - val_loss: 0.0114\n",
      "Epoch 12/100\n",
      "10/10 [==============================] - 0s 5ms/step - loss: 0.0112 - val_loss: 0.0106\n",
      "Epoch 13/100\n",
      "10/10 [==============================] - 0s 5ms/step - loss: 0.0105 - val_loss: 0.0100\n",
      "Epoch 14/100\n",
      "10/10 [==============================] - 0s 5ms/step - loss: 0.0100 - val_loss: 0.0096\n",
      "Epoch 15/100\n",
      "10/10 [==============================] - 0s 6ms/step - loss: 0.0097 - val_loss: 0.0093\n",
      "Epoch 16/100\n",
      "10/10 [==============================] - 0s 4ms/step - loss: 0.0094 - val_loss: 0.0090\n",
      "Epoch 17/100\n",
      "10/10 [==============================] - 0s 5ms/step - loss: 0.0091 - val_loss: 0.0088\n",
      "Epoch 18/100\n",
      "10/10 [==============================] - 0s 5ms/step - loss: 0.0089 - val_loss: 0.0085\n",
      "Epoch 19/100\n",
      "10/10 [==============================] - 0s 4ms/step - loss: 0.0086 - val_loss: 0.0083\n",
      "Epoch 20/100\n",
      "10/10 [==============================] - 0s 4ms/step - loss: 0.0084 - val_loss: 0.0081\n",
      "Epoch 21/100\n",
      "10/10 [==============================] - 0s 5ms/step - loss: 0.0082 - val_loss: 0.0079\n",
      "Epoch 22/100\n",
      "10/10 [==============================] - 0s 5ms/step - loss: 0.0080 - val_loss: 0.0077\n",
      "Epoch 23/100\n",
      "10/10 [==============================] - 0s 5ms/step - loss: 0.0079 - val_loss: 0.0075\n",
      "Epoch 24/100\n",
      "10/10 [==============================] - 0s 5ms/step - loss: 0.0077 - val_loss: 0.0074\n",
      "Epoch 25/100\n",
      "10/10 [==============================] - 0s 5ms/step - loss: 0.0075 - val_loss: 0.0073\n",
      "Epoch 26/100\n",
      "10/10 [==============================] - 0s 4ms/step - loss: 0.0074 - val_loss: 0.0071\n",
      "Epoch 27/100\n",
      "10/10 [==============================] - 0s 6ms/step - loss: 0.0072 - val_loss: 0.0070\n",
      "Epoch 28/100\n",
      "10/10 [==============================] - 0s 4ms/step - loss: 0.0071 - val_loss: 0.0068\n",
      "Epoch 29/100\n",
      "10/10 [==============================] - 0s 5ms/step - loss: 0.0070 - val_loss: 0.0067\n",
      "Epoch 30/100\n",
      "10/10 [==============================] - 0s 4ms/step - loss: 0.0068 - val_loss: 0.0066\n",
      "Epoch 31/100\n",
      "10/10 [==============================] - 0s 5ms/step - loss: 0.0067 - val_loss: 0.0065\n",
      "Epoch 32/100\n",
      "10/10 [==============================] - 0s 4ms/step - loss: 0.0066 - val_loss: 0.0064\n",
      "Epoch 33/100\n",
      "10/10 [==============================] - 0s 6ms/step - loss: 0.0065 - val_loss: 0.0063\n",
      "Epoch 34/100\n",
      "10/10 [==============================] - 0s 5ms/step - loss: 0.0064 - val_loss: 0.0062\n",
      "Epoch 35/100\n",
      "10/10 [==============================] - 0s 4ms/step - loss: 0.0063 - val_loss: 0.0061\n",
      "Epoch 36/100\n",
      "10/10 [==============================] - 0s 5ms/step - loss: 0.0062 - val_loss: 0.0060\n",
      "Epoch 37/100\n",
      "10/10 [==============================] - 0s 7ms/step - loss: 0.0061 - val_loss: 0.0059\n",
      "Epoch 38/100\n",
      "10/10 [==============================] - 0s 4ms/step - loss: 0.0060 - val_loss: 0.0058\n",
      "Epoch 39/100\n",
      "10/10 [==============================] - 0s 5ms/step - loss: 0.0060 - val_loss: 0.0058\n",
      "Epoch 40/100\n",
      "10/10 [==============================] - 0s 4ms/step - loss: 0.0059 - val_loss: 0.0058\n",
      "Epoch 41/100\n",
      "10/10 [==============================] - 0s 5ms/step - loss: 0.0058 - val_loss: 0.0057\n",
      "Epoch 42/100\n",
      "10/10 [==============================] - 0s 5ms/step - loss: 0.0057 - val_loss: 0.0057\n",
      "Epoch 43/100\n",
      "10/10 [==============================] - 0s 4ms/step - loss: 0.0057 - val_loss: 0.0055\n",
      "Epoch 44/100\n",
      "10/10 [==============================] - 0s 5ms/step - loss: 0.0056 - val_loss: 0.0055\n",
      "Epoch 45/100\n",
      "10/10 [==============================] - 0s 4ms/step - loss: 0.0055 - val_loss: 0.0055\n",
      "Epoch 46/100\n",
      "10/10 [==============================] - 0s 4ms/step - loss: 0.0055 - val_loss: 0.0054\n",
      "Epoch 47/100\n",
      "10/10 [==============================] - 0s 5ms/step - loss: 0.0054 - val_loss: 0.0054\n",
      "Epoch 48/100\n",
      "10/10 [==============================] - 0s 4ms/step - loss: 0.0054 - val_loss: 0.0053\n",
      "Epoch 49/100\n",
      "10/10 [==============================] - 0s 4ms/step - loss: 0.0053 - val_loss: 0.0053\n",
      "Epoch 50/100\n",
      "10/10 [==============================] - 0s 7ms/step - loss: 0.0053 - val_loss: 0.0053\n",
      "Epoch 51/100\n",
      "10/10 [==============================] - 0s 4ms/step - loss: 0.0052 - val_loss: 0.0052\n",
      "Epoch 52/100\n",
      "10/10 [==============================] - 0s 5ms/step - loss: 0.0052 - val_loss: 0.0052\n",
      "Epoch 53/100\n",
      "10/10 [==============================] - 0s 4ms/step - loss: 0.0052 - val_loss: 0.0052\n",
      "Epoch 54/100\n",
      "10/10 [==============================] - 0s 4ms/step - loss: 0.0051 - val_loss: 0.0051\n",
      "Epoch 55/100\n",
      "10/10 [==============================] - 0s 6ms/step - loss: 0.0051 - val_loss: 0.0051\n",
      "Epoch 56/100\n",
      "10/10 [==============================] - 0s 4ms/step - loss: 0.0051 - val_loss: 0.0051\n",
      "Epoch 57/100\n",
      "10/10 [==============================] - 0s 4ms/step - loss: 0.0050 - val_loss: 0.0050\n",
      "Epoch 58/100\n",
      "10/10 [==============================] - 0s 4ms/step - loss: 0.0050 - val_loss: 0.0051\n",
      "Epoch 59/100\n",
      "10/10 [==============================] - 0s 5ms/step - loss: 0.0049 - val_loss: 0.0050\n",
      "Epoch 60/100\n",
      "10/10 [==============================] - 0s 4ms/step - loss: 0.0049 - val_loss: 0.0049\n",
      "Epoch 61/100\n",
      "10/10 [==============================] - 0s 4ms/step - loss: 0.0049 - val_loss: 0.0050\n",
      "Epoch 62/100\n",
      "10/10 [==============================] - 0s 4ms/step - loss: 0.0049 - val_loss: 0.0049\n",
      "Epoch 63/100\n",
      "10/10 [==============================] - 0s 5ms/step - loss: 0.0048 - val_loss: 0.0049\n",
      "Epoch 64/100\n",
      "10/10 [==============================] - 0s 5ms/step - loss: 0.0048 - val_loss: 0.0049\n",
      "Epoch 65/100\n",
      "10/10 [==============================] - 0s 4ms/step - loss: 0.0048 - val_loss: 0.0049\n",
      "Epoch 66/100\n",
      "10/10 [==============================] - 0s 5ms/step - loss: 0.0048 - val_loss: 0.0048\n",
      "Epoch 67/100\n",
      "10/10 [==============================] - 0s 6ms/step - loss: 0.0047 - val_loss: 0.0048\n",
      "Epoch 68/100\n",
      "10/10 [==============================] - 0s 5ms/step - loss: 0.0047 - val_loss: 0.0048\n",
      "Epoch 69/100\n",
      "10/10 [==============================] - 0s 4ms/step - loss: 0.0047 - val_loss: 0.0048\n",
      "Epoch 70/100\n",
      "10/10 [==============================] - 0s 5ms/step - loss: 0.0047 - val_loss: 0.0047\n",
      "Epoch 71/100\n",
      "10/10 [==============================] - 0s 5ms/step - loss: 0.0046 - val_loss: 0.0047\n",
      "Epoch 72/100\n",
      "10/10 [==============================] - 0s 5ms/step - loss: 0.0046 - val_loss: 0.0047\n",
      "Epoch 73/100\n",
      "10/10 [==============================] - 0s 7ms/step - loss: 0.0046 - val_loss: 0.0046\n",
      "Epoch 74/100\n",
      "10/10 [==============================] - 0s 5ms/step - loss: 0.0045 - val_loss: 0.0046\n",
      "Epoch 75/100\n",
      "10/10 [==============================] - 0s 6ms/step - loss: 0.0045 - val_loss: 0.0046\n",
      "Epoch 76/100\n",
      "10/10 [==============================] - 0s 5ms/step - loss: 0.0044 - val_loss: 0.0046\n",
      "Epoch 77/100\n",
      "10/10 [==============================] - 0s 5ms/step - loss: 0.0044 - val_loss: 0.0045\n",
      "Epoch 78/100\n",
      "10/10 [==============================] - 0s 5ms/step - loss: 0.0043 - val_loss: 0.0045\n",
      "Epoch 79/100\n",
      "10/10 [==============================] - 0s 6ms/step - loss: 0.0043 - val_loss: 0.0045\n",
      "Epoch 80/100\n",
      "10/10 [==============================] - 0s 5ms/step - loss: 0.0043 - val_loss: 0.0044\n",
      "Epoch 81/100\n",
      "10/10 [==============================] - 0s 5ms/step - loss: 0.0042 - val_loss: 0.0044\n",
      "Epoch 82/100\n",
      "10/10 [==============================] - 0s 5ms/step - loss: 0.0042 - val_loss: 0.0044\n",
      "Epoch 83/100\n",
      "10/10 [==============================] - 0s 4ms/step - loss: 0.0042 - val_loss: 0.0044\n",
      "Epoch 84/100\n",
      "10/10 [==============================] - 0s 4ms/step - loss: 0.0041 - val_loss: 0.0043\n",
      "Epoch 85/100\n",
      "10/10 [==============================] - 0s 4ms/step - loss: 0.0041 - val_loss: 0.0043\n",
      "Epoch 86/100\n",
      "10/10 [==============================] - 0s 6ms/step - loss: 0.0041 - val_loss: 0.0043\n",
      "Epoch 87/100\n",
      "10/10 [==============================] - 0s 4ms/step - loss: 0.0041 - val_loss: 0.0043\n",
      "Epoch 88/100\n",
      "10/10 [==============================] - 0s 4ms/step - loss: 0.0041 - val_loss: 0.0043\n",
      "Epoch 89/100\n",
      "10/10 [==============================] - 0s 4ms/step - loss: 0.0041 - val_loss: 0.0043\n",
      "Epoch 90/100\n",
      "10/10 [==============================] - 0s 5ms/step - loss: 0.0040 - val_loss: 0.0043\n",
      "Epoch 91/100\n",
      "10/10 [==============================] - 0s 5ms/step - loss: 0.0040 - val_loss: 0.0042\n",
      "Epoch 92/100\n",
      "10/10 [==============================] - 0s 4ms/step - loss: 0.0040 - val_loss: 0.0042\n",
      "Epoch 93/100\n",
      "10/10 [==============================] - 0s 5ms/step - loss: 0.0040 - val_loss: 0.0043\n",
      "Epoch 94/100\n",
      "10/10 [==============================] - 0s 5ms/step - loss: 0.0040 - val_loss: 0.0042\n",
      "Epoch 95/100\n",
      "10/10 [==============================] - 0s 5ms/step - loss: 0.0040 - val_loss: 0.0042\n",
      "Epoch 96/100\n",
      "10/10 [==============================] - 0s 5ms/step - loss: 0.0040 - val_loss: 0.0042\n",
      "Epoch 97/100\n",
      "10/10 [==============================] - 0s 5ms/step - loss: 0.0040 - val_loss: 0.0042\n",
      "Epoch 98/100\n",
      "10/10 [==============================] - 0s 4ms/step - loss: 0.0040 - val_loss: 0.0042\n",
      "Epoch 99/100\n",
      "10/10 [==============================] - 0s 5ms/step - loss: 0.0039 - val_loss: 0.0042\n",
      "Epoch 100/100\n",
      "10/10 [==============================] - 0s 4ms/step - loss: 0.0039 - val_loss: 0.0042\n"
     ]
    }
   ],
   "source": [
    "history_1 = model_1.fit(X_train_scaled, y_train, epochs = 100, validation_split = 0.2)"
   ]
  },
  {
   "cell_type": "code",
   "execution_count": 29,
   "id": "e3ff9ea0",
   "metadata": {
    "execution": {
     "iopub.execute_input": "2023-12-23T07:28:03.493650Z",
     "iopub.status.busy": "2023-12-23T07:28:03.492383Z",
     "iopub.status.idle": "2023-12-23T07:28:03.598131Z",
     "shell.execute_reply": "2023-12-23T07:28:03.596753Z"
    },
    "papermill": {
     "duration": 0.140109,
     "end_time": "2023-12-23T07:28:03.600347",
     "exception": false,
     "start_time": "2023-12-23T07:28:03.460238",
     "status": "completed"
    },
    "tags": []
   },
   "outputs": [
    {
     "name": "stdout",
     "output_type": "stream",
     "text": [
      "4/4 [==============================] - 0s 2ms/step\n"
     ]
    }
   ],
   "source": [
    "y_pred_1 = model_1.predict(X_test_scaled)"
   ]
  },
  {
   "cell_type": "code",
   "execution_count": 30,
   "id": "a69813de",
   "metadata": {
    "execution": {
     "iopub.execute_input": "2023-12-23T07:28:03.666166Z",
     "iopub.status.busy": "2023-12-23T07:28:03.664224Z",
     "iopub.status.idle": "2023-12-23T07:28:03.671347Z",
     "shell.execute_reply": "2023-12-23T07:28:03.670710Z"
    },
    "papermill": {
     "duration": 0.040758,
     "end_time": "2023-12-23T07:28:03.673204",
     "exception": false,
     "start_time": "2023-12-23T07:28:03.632446",
     "status": "completed"
    },
    "tags": []
   },
   "outputs": [
    {
     "data": {
      "text/plain": [
       "0.7856422665140057"
      ]
     },
     "execution_count": 30,
     "metadata": {},
     "output_type": "execute_result"
    }
   ],
   "source": [
    "r2_score(y_test, y_pred_1)"
   ]
  },
  {
   "cell_type": "code",
   "execution_count": 31,
   "id": "b4649c10",
   "metadata": {
    "execution": {
     "iopub.execute_input": "2023-12-23T07:28:03.736115Z",
     "iopub.status.busy": "2023-12-23T07:28:03.733495Z",
     "iopub.status.idle": "2023-12-23T07:28:03.739116Z",
     "shell.execute_reply": "2023-12-23T07:28:03.738438Z"
    },
    "papermill": {
     "duration": 0.038735,
     "end_time": "2023-12-23T07:28:03.741250",
     "exception": false,
     "start_time": "2023-12-23T07:28:03.702515",
     "status": "completed"
    },
    "tags": []
   },
   "outputs": [],
   "source": [
    "## DONE !! \n",
    "##  REGRESSION PROBLEM USING ANN\n",
    "## Lets look at loss and accuracy graphs"
   ]
  },
  {
   "cell_type": "code",
   "execution_count": 32,
   "id": "f1a6f3ab",
   "metadata": {
    "execution": {
     "iopub.execute_input": "2023-12-23T07:28:03.803297Z",
     "iopub.status.busy": "2023-12-23T07:28:03.801505Z",
     "iopub.status.idle": "2023-12-23T07:28:04.023097Z",
     "shell.execute_reply": "2023-12-23T07:28:04.021733Z"
    },
    "papermill": {
     "duration": 0.254587,
     "end_time": "2023-12-23T07:28:04.025172",
     "exception": false,
     "start_time": "2023-12-23T07:28:03.770585",
     "status": "completed"
    },
    "tags": []
   },
   "outputs": [
    {
     "data": {
      "text/plain": [
       "[<matplotlib.lines.Line2D at 0x7d50bb1f3c40>]"
      ]
     },
     "execution_count": 32,
     "metadata": {},
     "output_type": "execute_result"
    },
    {
     "data": {
      "image/png": "[encoded data removed]",
      "text/plain": [
       "<Figure size 640x480 with 1 Axes>"
      ]
     },
     "metadata": {},
     "output_type": "display_data"
    }
   ],
   "source": [
    "import matplotlib.pyplot as plt\n",
    "plt.plot(history_1.history['loss'])\n",
    "plt.plot(history_1.history['val_loss'])"
   ]
  },
  {
   "cell_type": "code",
   "execution_count": 33,
   "id": "62423424",
   "metadata": {
    "execution": {
     "iopub.execute_input": "2023-12-23T07:28:04.086990Z",
     "iopub.status.busy": "2023-12-23T07:28:04.086646Z",
     "iopub.status.idle": "2023-12-23T07:28:04.091331Z",
     "shell.execute_reply": "2023-12-23T07:28:04.089979Z"
    },
    "papermill": {
     "duration": 0.03873,
     "end_time": "2023-12-23T07:28:04.093833",
     "exception": false,
     "start_time": "2023-12-23T07:28:04.055103",
     "status": "completed"
    },
    "tags": []
   },
   "outputs": [],
   "source": [
    "## See the loss has decreased !!"
   ]
  }
 ],
 "metadata": {
  "kaggle": {
   "accelerator": "none",
   "dataSources": [
    {
     "datasetId": 14872,
     "sourceId": 228180,
     "sourceType": "datasetVersion"
    }
   ],
   "dockerImageVersionId": 30626,
   "isGpuEnabled": false,
   "isInternetEnabled": false,
   "language": "python",
   "sourceType": "notebook"
  },
  "kernelspec": {
   "display_name": "Python 3",
   "language": "python",
   "name": "python3"
  },
  "language_info": {
   "codemirror_mode": {
    "name": "ipython",
    "version": 3
   },
   "file_extension": ".py",
   "mimetype": "text/x-python",
   "name": "python",
   "nbconvert_exporter": "python",
   "pygments_lexer": "ipython3",
   "version": "3.10.12"
  },
  "papermill": {
   "default_parameters": {},
   "duration": 26.999966,
   "end_time": "2023-12-23T07:28:05.747510",
   "environment_variables": {},
   "exception": null,
   "input_path": "__notebook__.ipynb",
   "output_path": "__notebook__.ipynb",
   "parameters": {},
   "start_time": "2023-12-23T07:27:38.747544",
   "version": "2.4.0"
  }
 },
 "nbformat": 4,
 "nbformat_minor": 5
}
